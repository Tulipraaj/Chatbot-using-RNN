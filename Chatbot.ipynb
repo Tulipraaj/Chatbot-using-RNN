{
  "nbformat": 4,
  "nbformat_minor": 0,
  "metadata": {
    "colab": {
      "provenance": [],
      "authorship_tag": "ABX9TyMNpyGAMyTewbHqKRIjql2H",
      "include_colab_link": true
    },
    "kernelspec": {
      "name": "python3",
      "display_name": "Python 3"
    },
    "language_info": {
      "name": "python"
    }
  },
  "cells": [
    {
      "cell_type": "markdown",
      "metadata": {
        "id": "view-in-github",
        "colab_type": "text"
      },
      "source": [
        "<a href=\"https://colab.research.google.com/github/Tulipraaj/Chatbot-using-RNN/blob/main/Chatbot.ipynb\" target=\"_parent\"><img src=\"https://colab.research.google.com/assets/colab-badge.svg\" alt=\"Open In Colab\"/></a>"
      ]
    },
    {
      "cell_type": "markdown",
      "source": [
        "# Import necessary Libraries"
      ],
      "metadata": {
        "id": "V6mHN1URlwVO"
      }
    },
    {
      "cell_type": "code",
      "execution_count": 1,
      "metadata": {
        "id": "Jxwu0GrZSmMK"
      },
      "outputs": [],
      "source": [
        "import numpy as np\n",
        "import json\n",
        "import re\n",
        "import tensorflow as tf\n",
        "import random\n",
        "import spacy\n",
        "nlp = spacy.load('en_core_web_sm')"
      ]
    },
    {
      "cell_type": "markdown",
      "source": [
        "# Preprocessing Intents"
      ],
      "metadata": {
        "id": "8rL3ZQtIl2HY"
      }
    },
    {
      "cell_type": "code",
      "source": [
        "with open('Intent.json') as f:\n",
        "    intents = json.load(f)"
      ],
      "metadata": {
        "id": "wrLFgomESvhB"
      },
      "execution_count": 2,
      "outputs": []
    },
    {
      "cell_type": "code",
      "source": [
        "def preprocessing(line):\n",
        "    line = re.sub(r'[^a-zA-z.?!\\']', ' ', line)\n",
        "    line = re.sub(r'[ ]+', ' ', line)\n",
        "    return line"
      ],
      "metadata": {
        "id": "NhEhGfYESz9Y"
      },
      "execution_count": 3,
      "outputs": []
    },
    {
      "cell_type": "code",
      "source": [
        "# get text and intent title from json data\n",
        "inputs, targets = [], []\n",
        "classes = []\n",
        "intent_doc = {}\n",
        "\n",
        "for intent in intents['intents']:\n",
        "    if intent['intent'] not in classes:\n",
        "        classes.append(intent['intent'])\n",
        "    if intent['intent'] not in intent_doc:\n",
        "        intent_doc[intent['intent']] = []\n",
        "\n",
        "    for text in intent['text']:\n",
        "        inputs.append(preprocessing(text))\n",
        "        targets.append(intent['intent'])\n",
        "\n",
        "    for response in intent['responses']:\n",
        "        intent_doc[intent['intent']].append(response)"
      ],
      "metadata": {
        "id": "MCuP2uJpS1l6"
      },
      "execution_count": 4,
      "outputs": []
    },
    {
      "cell_type": "code",
      "source": [
        "def tokenize_data(input_list):\n",
        "    tokenizer = tf.keras.preprocessing.text.Tokenizer(filters='', oov_token='<unk>')\n",
        "\n",
        "    tokenizer.fit_on_texts(input_list)\n",
        "\n",
        "    input_seq = tokenizer.texts_to_sequences(input_list)\n",
        "\n",
        "    input_seq = tf.keras.preprocessing.sequence.pad_sequences(input_seq, padding='pre')\n",
        "\n",
        "    return tokenizer, input_seq\n",
        "\n",
        "# preprocess input data\n",
        "tokenizer, input_tensor = tokenize_data(inputs)"
      ],
      "metadata": {
        "id": "yaumQG4TS3gx"
      },
      "execution_count": 5,
      "outputs": []
    },
    {
      "cell_type": "code",
      "source": [
        "def create_categorical_target(targets):\n",
        "    word={}\n",
        "    categorical_target=[]\n",
        "    counter=0\n",
        "    for trg in targets:\n",
        "        if trg not in word:\n",
        "            word[trg]=counter\n",
        "            counter+=1\n",
        "        categorical_target.append(word[trg])\n",
        "\n",
        "    categorical_tensor = tf.keras.utils.to_categorical(categorical_target, num_classes=len(word), dtype='int32')\n",
        "    return categorical_tensor, dict((v,k) for k, v in word.items())\n",
        "\n",
        "# preprocess output data\n",
        "target_tensor, trg_index_word = create_categorical_target(targets)"
      ],
      "metadata": {
        "id": "ltfOmXjeS_aG"
      },
      "execution_count": 6,
      "outputs": []
    },
    {
      "cell_type": "code",
      "source": [
        "print('input shape: {} and output shape: {}'.format(input_tensor.shape, target_tensor.shape))"
      ],
      "metadata": {
        "colab": {
          "base_uri": "https://localhost:8080/"
        },
        "id": "-lRhWkFMTBjH",
        "outputId": "57a8c64b-f55f-4af6-b2b9-6c791fee588d"
      },
      "execution_count": 7,
      "outputs": [
        {
          "output_type": "stream",
          "name": "stdout",
          "text": [
            "input shape: (143, 9) and output shape: (143, 22)\n"
          ]
        }
      ]
    },
    {
      "cell_type": "markdown",
      "source": [
        "# Build Model"
      ],
      "metadata": {
        "id": "6ghabVJ_l_DQ"
      }
    },
    {
      "cell_type": "code",
      "source": [
        "# hyperparameters\n",
        "epochs=100\n",
        "vocab_size=len(tokenizer.word_index) + 1\n",
        "embed_dim=512\n",
        "units=128\n",
        "target_length=target_tensor.shape[1]"
      ],
      "metadata": {
        "id": "UzZem1AkTDT3"
      },
      "execution_count": 8,
      "outputs": []
    },
    {
      "cell_type": "code",
      "source": [
        "# build RNN Model with tensorflow\n",
        "model = tf.keras.models.Sequential([\n",
        "    tf.keras.layers.Embedding(vocab_size, embed_dim),\n",
        "    tf.keras.layers.Bidirectional(tf.keras.layers.LSTM(units, dropout=0.2)),\n",
        "    tf.keras.layers.Dense(units, activation='relu'),\n",
        "    tf.keras.layers.Dropout(0.5),\n",
        "    tf.keras.layers.Dense(target_length, activation='softmax')\n",
        "])\n",
        "\n",
        "optimizer = tf.keras.optimizers.Adam(lr=1e-2)\n",
        "model.compile(optimizer=optimizer, loss='categorical_crossentropy', metrics=['accuracy'])\n",
        "model.summary()"
      ],
      "metadata": {
        "colab": {
          "base_uri": "https://localhost:8080/"
        },
        "id": "v4K2S21DTGbb",
        "outputId": "05fd76b6-1fb4-4804-c746-649b3f9bc166"
      },
      "execution_count": 9,
      "outputs": [
        {
          "output_type": "stream",
          "name": "stderr",
          "text": [
            "WARNING:absl:`lr` is deprecated in Keras optimizer, please use `learning_rate` or use the legacy optimizer, e.g.,tf.keras.optimizers.legacy.Adam.\n"
          ]
        },
        {
          "output_type": "stream",
          "name": "stdout",
          "text": [
            "Model: \"sequential\"\n",
            "_________________________________________________________________\n",
            " Layer (type)                Output Shape              Param #   \n",
            "=================================================================\n",
            " embedding (Embedding)       (None, None, 512)         66048     \n",
            "                                                                 \n",
            " bidirectional (Bidirection  (None, 256)               656384    \n",
            " al)                                                             \n",
            "                                                                 \n",
            " dense (Dense)               (None, 128)               32896     \n",
            "                                                                 \n",
            " dropout (Dropout)           (None, 128)               0         \n",
            "                                                                 \n",
            " dense_1 (Dense)             (None, 22)                2838      \n",
            "                                                                 \n",
            "=================================================================\n",
            "Total params: 758166 (2.89 MB)\n",
            "Trainable params: 758166 (2.89 MB)\n",
            "Non-trainable params: 0 (0.00 Byte)\n",
            "_________________________________________________________________\n"
          ]
        }
      ]
    },
    {
      "cell_type": "code",
      "source": [
        "early_stop = tf.keras.callbacks.EarlyStopping(monitor='loss', patience=4)\n",
        "\n",
        "# train the model\n",
        "model.fit(input_tensor, target_tensor, epochs=epochs, callbacks=[early_stop])"
      ],
      "metadata": {
        "colab": {
          "base_uri": "https://localhost:8080/"
        },
        "id": "C3Nif7Q_TLvh",
        "outputId": "803c5c90-d231-4973-ed1b-4ae46564ec42"
      },
      "execution_count": 10,
      "outputs": [
        {
          "output_type": "stream",
          "name": "stdout",
          "text": [
            "Epoch 1/100\n",
            "5/5 [==============================] - 6s 53ms/step - loss: 3.0908 - accuracy: 0.0420\n",
            "Epoch 2/100\n",
            "5/5 [==============================] - 0s 52ms/step - loss: 3.0667 - accuracy: 0.1119\n",
            "Epoch 3/100\n",
            "5/5 [==============================] - 0s 56ms/step - loss: 3.0195 - accuracy: 0.1538\n",
            "Epoch 4/100\n",
            "5/5 [==============================] - 0s 53ms/step - loss: 2.9594 - accuracy: 0.2238\n",
            "Epoch 5/100\n",
            "5/5 [==============================] - 0s 53ms/step - loss: 2.9028 - accuracy: 0.2308\n",
            "Epoch 6/100\n",
            "5/5 [==============================] - 0s 49ms/step - loss: 2.8052 - accuracy: 0.3007\n",
            "Epoch 7/100\n",
            "5/5 [==============================] - 0s 55ms/step - loss: 2.6473 - accuracy: 0.3566\n",
            "Epoch 8/100\n",
            "5/5 [==============================] - 0s 49ms/step - loss: 2.3881 - accuracy: 0.3916\n",
            "Epoch 9/100\n",
            "5/5 [==============================] - 0s 51ms/step - loss: 2.1482 - accuracy: 0.3776\n",
            "Epoch 10/100\n",
            "5/5 [==============================] - 0s 50ms/step - loss: 1.9014 - accuracy: 0.4965\n",
            "Epoch 11/100\n",
            "5/5 [==============================] - 0s 51ms/step - loss: 1.6593 - accuracy: 0.5245\n",
            "Epoch 12/100\n",
            "5/5 [==============================] - 0s 51ms/step - loss: 1.5114 - accuracy: 0.5594\n",
            "Epoch 13/100\n",
            "5/5 [==============================] - 0s 50ms/step - loss: 1.1245 - accuracy: 0.6573\n",
            "Epoch 14/100\n",
            "5/5 [==============================] - 0s 56ms/step - loss: 1.0118 - accuracy: 0.7063\n",
            "Epoch 15/100\n",
            "5/5 [==============================] - 0s 54ms/step - loss: 0.7659 - accuracy: 0.7552\n",
            "Epoch 16/100\n",
            "5/5 [==============================] - 0s 52ms/step - loss: 0.7511 - accuracy: 0.7762\n",
            "Epoch 17/100\n",
            "5/5 [==============================] - 0s 52ms/step - loss: 0.7353 - accuracy: 0.7483\n",
            "Epoch 18/100\n",
            "5/5 [==============================] - 0s 56ms/step - loss: 0.4387 - accuracy: 0.8811\n",
            "Epoch 19/100\n",
            "5/5 [==============================] - 0s 51ms/step - loss: 0.4324 - accuracy: 0.8951\n",
            "Epoch 20/100\n",
            "5/5 [==============================] - 0s 51ms/step - loss: 0.3664 - accuracy: 0.8951\n",
            "Epoch 21/100\n",
            "5/5 [==============================] - 0s 51ms/step - loss: 0.3214 - accuracy: 0.9091\n",
            "Epoch 22/100\n",
            "5/5 [==============================] - 0s 55ms/step - loss: 0.2305 - accuracy: 0.9580\n",
            "Epoch 23/100\n",
            "5/5 [==============================] - 0s 49ms/step - loss: 0.2845 - accuracy: 0.9371\n",
            "Epoch 24/100\n",
            "5/5 [==============================] - 0s 52ms/step - loss: 0.2539 - accuracy: 0.9301\n",
            "Epoch 25/100\n",
            "5/5 [==============================] - 0s 53ms/step - loss: 0.2091 - accuracy: 0.9510\n",
            "Epoch 26/100\n",
            "5/5 [==============================] - 0s 54ms/step - loss: 0.1381 - accuracy: 0.9790\n",
            "Epoch 27/100\n",
            "5/5 [==============================] - 0s 52ms/step - loss: 0.1245 - accuracy: 0.9650\n",
            "Epoch 28/100\n",
            "5/5 [==============================] - 0s 51ms/step - loss: 0.1105 - accuracy: 0.9930\n",
            "Epoch 29/100\n",
            "5/5 [==============================] - 0s 53ms/step - loss: 0.0622 - accuracy: 0.9930\n",
            "Epoch 30/100\n",
            "5/5 [==============================] - 0s 51ms/step - loss: 0.0596 - accuracy: 0.9930\n",
            "Epoch 31/100\n",
            "5/5 [==============================] - 0s 51ms/step - loss: 0.0706 - accuracy: 0.9860\n",
            "Epoch 32/100\n",
            "5/5 [==============================] - 0s 52ms/step - loss: 0.0532 - accuracy: 0.9790\n",
            "Epoch 33/100\n",
            "5/5 [==============================] - 0s 53ms/step - loss: 0.0486 - accuracy: 0.9860\n",
            "Epoch 34/100\n",
            "5/5 [==============================] - 0s 52ms/step - loss: 0.0498 - accuracy: 0.9930\n",
            "Epoch 35/100\n",
            "5/5 [==============================] - 0s 52ms/step - loss: 0.0427 - accuracy: 0.9860\n",
            "Epoch 36/100\n",
            "5/5 [==============================] - 0s 54ms/step - loss: 0.0513 - accuracy: 0.9930\n",
            "Epoch 37/100\n",
            "5/5 [==============================] - 0s 78ms/step - loss: 0.0405 - accuracy: 0.9930\n",
            "Epoch 38/100\n",
            "5/5 [==============================] - 0s 80ms/step - loss: 0.0526 - accuracy: 0.9930\n",
            "Epoch 39/100\n",
            "5/5 [==============================] - 0s 79ms/step - loss: 0.0305 - accuracy: 0.9930\n",
            "Epoch 40/100\n",
            "5/5 [==============================] - 0s 78ms/step - loss: 0.0503 - accuracy: 0.9930\n",
            "Epoch 41/100\n",
            "5/5 [==============================] - 0s 82ms/step - loss: 0.0270 - accuracy: 1.0000\n",
            "Epoch 42/100\n",
            "5/5 [==============================] - 0s 83ms/step - loss: 0.0525 - accuracy: 0.9930\n",
            "Epoch 43/100\n",
            "5/5 [==============================] - 0s 87ms/step - loss: 0.0366 - accuracy: 0.9860\n",
            "Epoch 44/100\n",
            "5/5 [==============================] - 0s 52ms/step - loss: 0.0309 - accuracy: 0.9930\n",
            "Epoch 45/100\n",
            "5/5 [==============================] - 0s 52ms/step - loss: 0.0186 - accuracy: 1.0000\n",
            "Epoch 46/100\n",
            "5/5 [==============================] - 0s 52ms/step - loss: 0.0194 - accuracy: 0.9930\n",
            "Epoch 47/100\n",
            "5/5 [==============================] - 0s 51ms/step - loss: 0.0246 - accuracy: 0.9930\n",
            "Epoch 48/100\n",
            "5/5 [==============================] - 0s 52ms/step - loss: 0.0099 - accuracy: 1.0000\n",
            "Epoch 49/100\n",
            "5/5 [==============================] - 0s 51ms/step - loss: 0.0132 - accuracy: 1.0000\n",
            "Epoch 50/100\n",
            "5/5 [==============================] - 0s 50ms/step - loss: 0.0116 - accuracy: 1.0000\n",
            "Epoch 51/100\n",
            "5/5 [==============================] - 0s 51ms/step - loss: 0.0170 - accuracy: 0.9930\n",
            "Epoch 52/100\n",
            "5/5 [==============================] - 0s 51ms/step - loss: 0.0125 - accuracy: 1.0000\n"
          ]
        },
        {
          "output_type": "execute_result",
          "data": {
            "text/plain": [
              "<keras.src.callbacks.History at 0x7bc81db118d0>"
            ]
          },
          "metadata": {},
          "execution_count": 10
        }
      ]
    },
    {
      "cell_type": "markdown",
      "source": [
        "# Initialize the Chatbot"
      ],
      "metadata": {
        "id": "fK6GLQNOmIX6"
      }
    },
    {
      "cell_type": "code",
      "source": [
        "def response(sentence):\n",
        "    sent_seq = []\n",
        "    doc = nlp(repr(sentence))\n",
        "\n",
        "    # split the input sentences into words\n",
        "    for token in doc:\n",
        "        if token.text in tokenizer.word_index:\n",
        "            sent_seq.append(tokenizer.word_index[token.text])\n",
        "\n",
        "        # handle the unknown words error\n",
        "        else:\n",
        "            sent_seq.append(tokenizer.word_index['<unk>'])\n",
        "\n",
        "    sent_seq = tf.expand_dims(sent_seq, 0)\n",
        "    # predict the category of input sentences\n",
        "    pred = model(sent_seq)\n",
        "\n",
        "    pred_class = np.argmax(pred.numpy(), axis=1)\n",
        "\n",
        "    # choice a random response for predicted sentence\n",
        "    return random.choice(intent_doc[trg_index_word[pred_class[0]]]), trg_index_word[pred_class[0]]\n",
        "\n",
        "# chat with bot\n",
        "print(\"Note: Enter 'quit' to break the loop.\")\n",
        "while True:\n",
        "    input_ = input('You: ')\n",
        "    if input_.lower() == 'quit':\n",
        "        break\n",
        "    res, typ = response(input_)\n",
        "    print('Bot: {}'.format(res))\n",
        "    print()"
      ],
      "metadata": {
        "colab": {
          "base_uri": "https://localhost:8080/"
        },
        "id": "UIDpYhxCTQxK",
        "outputId": "14dc186a-1de5-4667-8496-2db8bd556bfa"
      },
      "execution_count": 14,
      "outputs": [
        {
          "name": "stdout",
          "output_type": "stream",
          "text": [
            "Note: Enter 'quit' to break the loop.\n",
            "You: hello\n",
            "Bot: Hi human, please tell me your Bot user\n",
            "\n",
            "You: tell me a joke\n",
            "Bot: Two cows standing in a field. One turns to the other and says 'Moo!' The other one says 'Damn, I was just about to say that!'.\n",
            "\n",
            "You: that was nice\n",
            "Bot: OK\n",
            "\n",
            "You: tell me a gossip\n",
            "Bot: Cathy said she send him a mail where he wrote that he do not want to be his friend anymore.\n",
            "\n",
            "You: thats bad\n",
            "Bot: One second\n",
            "\n",
            "You: quit\n"
          ]
        }
      ]
    },
    {
      "cell_type": "code",
      "source": [],
      "metadata": {
        "id": "8lBDPH7wrXMi"
      },
      "execution_count": null,
      "outputs": []
    },
    {
      "cell_type": "code",
      "source": [],
      "metadata": {
        "id": "RG8OToHYTXeD"
      },
      "execution_count": null,
      "outputs": []
    }
  ]
}